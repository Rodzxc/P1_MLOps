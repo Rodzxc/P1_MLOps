{
 "cells": [
  {
   "cell_type": "code",
   "execution_count": 1,
   "id": "1d848137",
   "metadata": {},
   "outputs": [],
   "source": [
    "import pandas as pd\n",
    "from sklearn.metrics.pairwise import cosine_similarity"
   ]
  },
  {
   "cell_type": "markdown",
   "id": "fae882e6",
   "metadata": {},
   "source": [
    "### Archivos a utilizar"
   ]
  },
  {
   "cell_type": "code",
   "execution_count": 4,
   "id": "bd9a0901",
   "metadata": {},
   "outputs": [],
   "source": [
    "m = pd.read_csv('C:\\\\Users\\\\rodxf\\\\Desktop\\\\Soy Henry\\\\TAREAS\\\\P1\\\\merged_df.csv')"
   ]
  },
  {
   "cell_type": "code",
   "execution_count": null,
   "id": "18ebc4eb",
   "metadata": {},
   "outputs": [],
   "source": [
    "u = pd.read_csv('C:\\\\Users\\\\rodxf\\\\Desktop\\\\Soy Henry\\\\TAREAS\\\\P1\\\\merged_df_2.csv')"
   ]
  },
  {
   "cell_type": "code",
   "execution_count": null,
   "id": "e47d9b68",
   "metadata": {},
   "outputs": [],
   "source": [
    "ml = pd.read_csv('C:\\\\Users\\\\rodxf\\\\Desktop\\\\Soy Henry\\\\TAREAS\\\\P1\\\\ml_df.csv')"
   ]
  },
  {
   "cell_type": "markdown",
   "id": "88af72b9",
   "metadata": {},
   "source": [
    "### Funciones"
   ]
  },
  {
   "cell_type": "code",
   "execution_count": 24,
   "id": "7de49a65",
   "metadata": {},
   "outputs": [],
   "source": [
    "def PlayTimeGenre(genero : str):\n",
    "    \n",
    "    \n",
    "    genero = genero.capitalize()\n",
    "    \n",
    "        \n",
    "    # Filtro segun genero\n",
    "    df_gen = m[m.genres == genero]\n",
    "    \n",
    "    # Mensaje si el genero de entrada no esta en la colunma 'genres'\n",
    "    if df_gen.empty:\n",
    "        return f\"No se encontraron juegos del género {genero}\"\n",
    "    \n",
    "    # Agrupamiento por anio, sumo los tiempos \n",
    "    df_agrupado = df_gen.groupby('year')['playtime_forever'].sum().reset_index()\n",
    "    \n",
    "    #Anio con mas tiempo de juego\n",
    "    anio_max_tiempo = df_agrupado[df_agrupado['playtime_forever'] == df_agrupado['playtime_forever'].max()]\n",
    "    \n",
    "    #Resultado\n",
    "    res = {\n",
    "        f\"El año con más horas de juego para el género '{genero}' es {anio_max_tiempo.iloc[0]['year'].astype(int)}\" \n",
    "        }\n",
    "    return res\n",
    "\n",
    "val = PlayTimeGenre('Action')\n",
    "val"
   ]
  },
  {
   "cell_type": "code",
   "execution_count": 10,
   "id": "04f584ed",
   "metadata": {
    "scrolled": true
   },
   "outputs": [],
   "source": [
    "def UserForGenre(genero: str):\n",
    "       \n",
    "    genero = genero.capitalize()\n",
    "    \n",
    "    # Mensaje si el genero de entrada no esta en la colunma 'genres'\n",
    "    if df_gen.empty:\n",
    "        return f\"No se encontraron juegos del género {genero}\"\n",
    "     \n",
    "    # Encuentra al usuario con más horas jugadas   \n",
    "    # DF 'Genres' + 'item_id'\n",
    "    df_id_titles = df_gen['item_id'].drop_duplicates()\n",
    "    # Filtro de DF 'u' segun el genero, en este filtro aparecen los titulos de dicho genero\n",
    "    u_filt = u[u['item_id'].isin(df_id_titles)]\n",
    "    \n",
    "    # horas por jugador\n",
    "    time_df = u_filt.groupby('user_id')['playtime_forever'].sum().reset_index()\n",
    "    user = time_df.sort_values(by='playtime_forever', ascending=False).head(1) \n",
    "    user_max = user.iloc[0,0]\n",
    "    \n",
    "    #Calculo de horas jugadas segun el anio('year')\n",
    "    acum_year = df_gen.groupby('year')['playtime_forever'].sum().reset_index()\n",
    "    acum_year.rename(columns={'year': 'Año', 'playtime_forever': 'Horas'}, inplace=True)\n",
    "    \n",
    "    # Convierte los resultados en una lista de diccionarios\n",
    "    lista = acum_year.to_dict(orient='records')\n",
    "    \n",
    "    # Resultado\n",
    "    res = {\n",
    "        f\"Usuario con más horas jugadas para el género {genero}\": user_max,\n",
    "        \"Horas jugadas por año\": lista\n",
    "    }\n",
    "    \n",
    "    return res\n",
    "\n",
    "val = UserForGenre('Action')\n",
    "val"
   ]
  },
  {
   "cell_type": "code",
   "execution_count": 43,
   "id": "ef9b2e08",
   "metadata": {},
   "outputs": [
    {
     "data": {
      "text/plain": [
       "{'Puesto 1': 'Killing Floor',\n",
       " 'Puesto 2': 'DOOM 3',\n",
       " 'Puesto 3': 'Dungeons of Dredmor'}"
      ]
     },
     "execution_count": 43,
     "metadata": {},
     "output_type": "execute_result"
    }
   ],
   "source": [
    "def UsersRecommend(año : str):\n",
    "    # Filtra el DataFrame para el año específico\n",
    "    df_filtered = u[u['year'] == año]\n",
    "\n",
    "    # Ordena el DataFrame por la columna 'sentiment_analysis' en orden descendente\n",
    "    df_sorted = df_filtered.sort_values(by='sentiment_analysis', ascending=False)\n",
    "\n",
    "    # Filtra los juegos que tienen un valor de 'recommend' igual a True\n",
    "    df_top_recommendations = df_sorted[df_sorted['recommend']]\n",
    "\n",
    "    # Obtiene los 3 juegos más recomendados\n",
    "    top_3_recommended_games = df_top_recommendations.head(3)\n",
    "\n",
    "    # El item_id de los 3 juegos recomendados\n",
    "    items = top_3_recommended_games['item_id']\n",
    "    \n",
    "    # Titulo\n",
    "    titulo = m[['item_id', 'title']].drop_duplicates()\n",
    "    \n",
    "    # Puestos\n",
    "    puesto = []\n",
    "    for i in items:\n",
    "        c = titulo[titulo['item_id'] == i]\n",
    "        if not c.empty:\n",
    "            puesto.append(c.iloc[0]['title'])\n",
    "    # Resultado    \n",
    "    res = {\n",
    "        f\"Puesto 1\": puesto[0],\n",
    "        \"Puesto 2\": puesto[1] ,\n",
    "        \"Puesto 3\": puesto[2]\n",
    "    }\n",
    "    return res\n",
    "\n",
    "val = UsersRecommend(2011)\n",
    "val\n"
   ]
  },
  {
   "cell_type": "code",
   "execution_count": 14,
   "id": "5a587d64",
   "metadata": {},
   "outputs": [
    {
     "data": {
      "text/plain": [
       "{'Puesto 1': 'And Yet It Moves', 'Puesto 2': 'Men of War: Vietnam'}"
      ]
     },
     "execution_count": 14,
     "metadata": {},
     "output_type": "execute_result"
    }
   ],
   "source": [
    "def UsersNotRecommend(año : str):\n",
    "    # Filtra el DataFrame para el año específico\n",
    "    df_filtered = u[u['year'] == año]\n",
    "\n",
    "    # Ordena el DataFrame por la columna 'sentiment_analysis' en orden ascendente\n",
    "    df_sorted = df_filtered.sort_values(by='sentiment_analysis', ascending=True)\n",
    "\n",
    "    # Filtra los juegos que tienen un valor de 'recommend' igual a False\n",
    "    df_top_recommendations = df_sorted[df_sorted['recommend'] == False]\n",
    "\n",
    "    # Obtiene los 3 juegos menos recomendados\n",
    "    top_3_recommended_games = df_top_recommendations.head(3)\n",
    "\n",
    "    # El item_id de los 3 juegos recomendados\n",
    "    items = top_3_recommended_games['item_id']\n",
    "    \n",
    "    # Titulo\n",
    "    titulo = m[['item_id', 'title']].drop_duplicates()\n",
    "    \n",
    "    # Puestos\n",
    "    puesto = []\n",
    "    for i in items:\n",
    "        c = titulo[titulo['item_id'] == i]\n",
    "        if not c.empty:\n",
    "            puesto.append(c.iloc[0]['title'])\n",
    "            \n",
    "    # Resultado    \n",
    "    res = {}\n",
    "    \n",
    "    if len(puesto) > 0:\n",
    "        res[\"Puesto 1\"] = puesto[0]\n",
    "    if len(puesto) > 1:\n",
    "        res[\"Puesto 2\"] = puesto[1]\n",
    "    if len(puesto) > 2:\n",
    "        res[\"Puesto 3\"] = puesto[2]\n",
    "    return res\n",
    "\n",
    "val = UsersRecommend(2011)\n",
    "val"
   ]
  },
  {
   "cell_type": "code",
   "execution_count": 13,
   "id": "43730e82",
   "metadata": {},
   "outputs": [
    {
     "data": {
      "text/plain": [
       "{'Positivos': 240, 'Neutro': 41, 'Negativo': 65}"
      ]
     },
     "execution_count": 13,
     "metadata": {},
     "output_type": "execute_result"
    }
   ],
   "source": [
    "def sentiment_analysis(año : int):\n",
    "    \n",
    "    # Filtra el DataFrame para el año específico\n",
    "    df_filtered = u[u['year'] == año]\n",
    "    \n",
    "    # Resultado\n",
    "    res = {}\n",
    "    \n",
    "    if not df_filtered.empty:\n",
    "        sentiment_counts = df_filtered['sentiment_analysis'].value_counts()\n",
    "        \n",
    "        if 2 in sentiment_counts:\n",
    "            res[\"Positivos\"] = sentiment_counts[2]\n",
    "        if 1 in sentiment_counts:\n",
    "            res[\"Neutro\"] = sentiment_counts[1]\n",
    "        if 0 in sentiment_counts:\n",
    "            res[\"Negativo\"] = sentiment_counts[0]\n",
    "    \n",
    "    return res\n",
    "\n",
    "val = sentiment_analysis(2011)\n",
    "val\n"
   ]
  },
  {
   "cell_type": "code",
   "execution_count": null,
   "id": "2e815f82",
   "metadata": {},
   "outputs": [],
   "source": [
    "def recommend_games(title):\n",
    "    \n",
    "    genero = genero.capitalize()\n",
    "    \n",
    "    # Busca el índice del juego de entrada\n",
    "    try:\n",
    "        game_idx = df[df['title'] == title].index[0]\n",
    "    except IndexError:\n",
    "        return \"El juego no se encuentra en la base de datos\"\n",
    "\n",
    "    # Excluimos la columna 'titulo_juego' antes de calcular la similitud\n",
    "    X = df.drop(columns=['title'])\n",
    "\n",
    "    # Calcula la similitud del coseno entre los juegos\n",
    "    similarities = cosine_similarity(X)\n",
    "\n",
    "    # Ordena los juegos por similitud (excluyendo el juego de entrada)\n",
    "    similar_games_indices = similarities[game_idx].argsort()[::-1][1:]\n",
    "\n",
    "    # Recomienda los juegos más similares\n",
    "    recommended_games_indices = similar_games_indices[:5]\n",
    "    recommended_games = df.loc[recommended_games_indices, 'title'].tolist()\n",
    "    \n",
    "    \n",
    "\n",
    "    puestos = [1 , 2 , 3 , 4 , 5]\n",
    "\n",
    "    diccionario_combinado = {p: j for p, j in zip(puestos, recommended_games)}\n",
    "\n",
    "   # Mostrar el diccionario resultante\n",
    "    return diccionario_combinado\n",
    "\n",
    "\n",
    "# Ejemplo de uso\n",
    "val = recommend_games( 'Ironbound')\n",
    "val\n"
   ]
  },
  {
   "cell_type": "code",
   "execution_count": null,
   "id": "f66ef25a",
   "metadata": {},
   "outputs": [],
   "source": []
  }
 ],
 "metadata": {
  "kernelspec": {
   "display_name": "Python 3 (ipykernel)",
   "language": "python",
   "name": "python3"
  },
  "language_info": {
   "codemirror_mode": {
    "name": "ipython",
    "version": 3
   },
   "file_extension": ".py",
   "mimetype": "text/x-python",
   "name": "python",
   "nbconvert_exporter": "python",
   "pygments_lexer": "ipython3",
   "version": "3.9.13"
  }
 },
 "nbformat": 4,
 "nbformat_minor": 5
}
